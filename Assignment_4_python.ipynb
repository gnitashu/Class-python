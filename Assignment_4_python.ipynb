{
 "cells": [
  {
   "cell_type": "markdown",
   "id": "978b9f88-a31e-4ea2-9b2a-e4b5a9b90b6f",
   "metadata": {},
   "source": [
    "**Q-1**"
   ]
  },
  {
   "cell_type": "code",
   "execution_count": 5,
   "id": "4b28fdd8-51e6-4eb4-8bf9-1c7ab2b4882a",
   "metadata": {},
   "outputs": [
    {
     "name": "stdin",
     "output_type": "stream",
     "text": [
      " Enter a number : 2\n"
     ]
    },
    {
     "name": "stdout",
     "output_type": "stream",
     "text": [
      " the 2 is even \n"
     ]
    }
   ],
   "source": [
    "num= eval(input(\" Enter a number :\"))\n",
    "if num%2==0:\n",
    "       print(f\" the {num} is even \")\n",
    "else:\n",
    "    print(f\" The {num} is odd \")"
   ]
  },
  {
   "cell_type": "markdown",
   "id": "e0a2b68e-383b-4c75-b67e-54bede27fb13",
   "metadata": {},
   "source": [
    "**Q-2**\n"
   ]
  },
  {
   "cell_type": "code",
   "execution_count": 6,
   "id": "033a464c-0262-4bee-a11c-3aa9bd34cf52",
   "metadata": {},
   "outputs": [
    {
     "name": "stdout",
     "output_type": "stream",
     "text": [
      " The 33 is odd \n"
     ]
    }
   ],
   "source": [
    "import random\n",
    "num = random.randint(1,100)\n",
    "if num%2==0:\n",
    "       print(f\" the {num} is even \")\n",
    "else:\n",
    "    print(f\" The {num} is odd \")\n",
    "\n"
   ]
  },
  {
   "cell_type": "markdown",
   "id": "99b38e0d-e260-4580-aed5-f3df6316e90b",
   "metadata": {},
   "source": [
    "**Q-3**\n"
   ]
  },
  {
   "cell_type": "code",
   "execution_count": 12,
   "id": "e98b2e60-0de2-4588-8053-a2e5e309b9e6",
   "metadata": {},
   "outputs": [
    {
     "name": "stdin",
     "output_type": "stream",
     "text": [
      " Enter the number :  550\n",
      "enter the cutoff_dist in km: 25\n"
     ]
    },
    {
     "name": "stdout",
     "output_type": "stream",
     "text": [
      " good news your charge is aplicable for only remaining of 25\n"
     ]
    },
    {
     "name": "stdin",
     "output_type": "stream",
     "text": [
      "enter the charge in reupees: 250\n"
     ]
    },
    {
     "name": "stdout",
     "output_type": "stream",
     "text": [
      "total charge  is : 137500\n"
     ]
    }
   ],
   "source": [
    "distance = eval(input(\" Enter the number : \"))\n",
    "cutoff_distance= eval(input(\"enter the cutoff_dist in km:\"))\n",
    "\n",
    "if distance>25 :\n",
    "    print(\" good news your charge is aplicable for only remaining of 25\")\n",
    "    chargeble_distance= distance - cutoff_distance\n",
    "    charge= eval(input(\"enter the charge in reupees:\"))\n",
    "    cost=distance*charge\n",
    "    print(\"total charge  is :\",cost)\n",
    "\n",
    "else:\n",
    "    print(\"enjoy the free ride\")\n",
    "    \n"
   ]
  },
  {
   "cell_type": "markdown",
   "id": "26a4ad2e-4cc1-4715-ade5-92e1ed778511",
   "metadata": {},
   "source": [
    "**Q-4**\n"
   ]
  },
  {
   "cell_type": "code",
   "execution_count": 15,
   "id": "d28e75bd-59bd-4ce0-8438-543b8c120c18",
   "metadata": {},
   "outputs": [
    {
     "name": "stdin",
     "output_type": "stream",
     "text": [
      " Enter the course name: data science\n",
      " Enter the institute name: naresh it\n"
     ]
    },
    {
     "name": "stdout",
     "output_type": "stream",
     "text": [
      " you are good!\n"
     ]
    }
   ],
   "source": [
    "course = input(\" Enter the course name:\")\n",
    "institue=input(\" Enter the institute name:\")\n",
    "if course=='data science' and institue=='naresh it':\n",
    "      print(\" you are good!\")\n",
    "else:\n",
    "    print(\"you are bad\")"
   ]
  },
  {
   "cell_type": "markdown",
   "id": "08692ccc-1caf-4b95-a222-df320aac4d86",
   "metadata": {},
   "source": [
    "**Q-5**"
   ]
  },
  {
   "cell_type": "code",
   "execution_count": 18,
   "id": "3e0cd412-27ea-4774-8d56-f47b230f36d5",
   "metadata": {},
   "outputs": [
    {
     "name": "stdin",
     "output_type": "stream",
     "text": [
      " Enter any number :  2\n"
     ]
    },
    {
     "name": "stdout",
     "output_type": "stream",
     "text": [
      "you won\n"
     ]
    }
   ],
   "source": [
    "number1=random.randint(1,10)\n",
    "number2=eval(input(\" Enter any number : \"))\n",
    "if number1==number2:\n",
    "    print(\"you won\")\n",
    "else:\n",
    "    print(\"you lost !\")"
   ]
  },
  {
   "cell_type": "markdown",
   "id": "451dadd7-b137-4618-926c-2d87fa53d223",
   "metadata": {},
   "source": [
    "**Q-6**"
   ]
  },
  {
   "cell_type": "code",
   "execution_count": 19,
   "id": "31ad5ac9-2f9d-4762-b1c9-be4f098ac06f",
   "metadata": {},
   "outputs": [
    {
     "name": "stdin",
     "output_type": "stream",
     "text": [
      "enter the number :  7\n"
     ]
    },
    {
     "name": "stdout",
     "output_type": "stream",
     "text": [
      " Enter a vaild number: \n"
     ]
    }
   ],
   "source": [
    "num=eval(input(\"enter the number : \"))\n",
    "if num==1:\n",
    "    print(\" one \")\n",
    "elif num==2:\n",
    "    print(\" Two \")\n",
    "elif num==3:\n",
    "    print(\" Three \")\n",
    "else:\n",
    "    print(\" Enter a vaild number: \")"
   ]
  },
  {
   "cell_type": "markdown",
   "id": "15fa8467-4ef2-4cdb-940f-0b2b106a514a",
   "metadata": {},
   "source": [
    "**Q-7**"
   ]
  },
  {
   "cell_type": "code",
   "execution_count": 20,
   "id": "c1bf6354-e735-4557-8132-e618960440d0",
   "metadata": {},
   "outputs": [
    {
     "name": "stdin",
     "output_type": "stream",
     "text": [
      " Enter the number :  6\n"
     ]
    },
    {
     "name": "stdout",
     "output_type": "stream",
     "text": [
      " number is positive \n"
     ]
    }
   ],
   "source": [
    "number=eval(input(\" Enter the number : \"))\n",
    "if number>0:\n",
    "    print(\" number is positive \")\n",
    "elif number<0:\n",
    "    print(\" number is negative \")\n",
    "\n",
    "else:\n",
    "    print(\" zero \")"
   ]
  },
  {
   "cell_type": "markdown",
   "id": "6a64f528-9a78-409e-a9de-beac8f34cc0a",
   "metadata": {},
   "source": [
    "**Q-8**"
   ]
  },
  {
   "cell_type": "code",
   "execution_count": 22,
   "id": "a2880d07-4b54-4226-81db-afa5aa405ab0",
   "metadata": {},
   "outputs": [
    {
     "name": "stdin",
     "output_type": "stream",
     "text": [
      " Enter the percentage of marks 0 to 100 :  92\n"
     ]
    },
    {
     "name": "stdout",
     "output_type": "stream",
     "text": [
      " A - Grade\n"
     ]
    }
   ],
   "source": [
    "percentage = eval(input(\" Enter the percentage of marks 0 to 100 : \"))\n",
    "if percentage>=90:\n",
    "    print(\" A - Grade\")\n",
    "elif percentage>=75:\n",
    "    print(\" B - Grade\")\n",
    "elif percentage>=50:\n",
    "    print(\" C - Grade\")\n",
    "elif percentage>=35:\n",
    "    print(\" D - Grade\")\n",
    "else:\n",
    "    print(\" Fail \")"
   ]
  },
  {
   "cell_type": "markdown",
   "id": "40b820e1-a3f1-4287-ae6c-2775606ece5c",
   "metadata": {},
   "source": [
    "**Q-9**"
   ]
  },
  {
   "cell_type": "code",
   "execution_count": 23,
   "id": "b9c95b00-6335-4113-807b-34a6dee1b9cf",
   "metadata": {},
   "outputs": [
    {
     "name": "stdin",
     "output_type": "stream",
     "text": [
      " Enter the age :  18\n"
     ]
    },
    {
     "name": "stdout",
     "output_type": "stream",
     "text": [
      " Young age \n"
     ]
    }
   ],
   "source": [
    "age = eval(input(\" Enter the age : \"))\n",
    "if age >=100:\n",
    "    print(\" You are Lucky !\")\n",
    "elif age >=75:\n",
    "    print(\" old age \")\n",
    "elif age>=50:\n",
    "    print(\" Senior CItizen\")\n",
    "elif age>=30:\n",
    "    print(\" Middle age \")\n",
    "elif age>=15:\n",
    "    print(\" Young age \")\n",
    "else:\n",
    "    print(\" kid \")\n"
   ]
  },
  {
   "cell_type": "code",
   "execution_count": null,
   "id": "0a5bc55b-53f0-42e4-9277-06bfb17d506b",
   "metadata": {},
   "outputs": [],
   "source": []
  }
 ],
 "metadata": {
  "kernelspec": {
   "display_name": "Python 3 (ipykernel)",
   "language": "python",
   "name": "python3"
  },
  "language_info": {
   "codemirror_mode": {
    "name": "ipython",
    "version": 3
   },
   "file_extension": ".py",
   "mimetype": "text/x-python",
   "name": "python",
   "nbconvert_exporter": "python",
   "pygments_lexer": "ipython3",
   "version": "3.11.7"
  }
 },
 "nbformat": 4,
 "nbformat_minor": 5
}
