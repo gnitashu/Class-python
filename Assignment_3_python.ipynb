{
 "cells": [
  {
   "cell_type": "markdown",
   "id": "a2e0930b-b584-4069-93d8-ed688b8cc617",
   "metadata": {},
   "source": [
    "**Q-1**"
   ]
  },
  {
   "cell_type": "code",
   "execution_count": 3,
   "id": "48321d16-c593-495e-8a45-90f78dee713e",
   "metadata": {},
   "outputs": [
    {
     "name": "stdin",
     "output_type": "stream",
     "text": [
      " Enter the basic_salaryof ramesh :  85000\n"
     ]
    },
    {
     "name": "stdout",
     "output_type": "stream",
     "text": [
      "Ramesh's gross salary is:  136000.0\n"
     ]
    }
   ],
   "source": [
    "\n",
    "import random\n",
    "basic_salary = eval(input(\" Enter the basic_salaryof ramesh : \"))\n",
    "\n",
    "dearness_allowance = round (basic_salary * 0.4,2)\n",
    "\n",
    "house_rent_allowance = round (basic_salary * 0.2,2)\n",
    "                              \n",
    "gross_salary = basic_salary + dearness_allowance + house_rent_allowance\n",
    "\n",
    "print(f\"Ramesh's gross salary is: {gross_salary}\")\n"
   ]
  },
  {
   "cell_type": "markdown",
   "id": "789c605a-d5c1-4ddc-bc83-60ad346d67bb",
   "metadata": {},
   "source": [
    "**Q-2**"
   ]
  },
  {
   "cell_type": "code",
   "execution_count": 2,
   "id": "36571ef6-7d95-440e-bb18-6156fc5cc945",
   "metadata": {},
   "outputs": [
    {
     "name": "stdin",
     "output_type": "stream",
     "text": [
      "Enter the distance between two cities in kilometers:  64\n"
     ]
    },
    {
     "name": "stdout",
     "output_type": "stream",
     "text": [
      "Distance in meters: 64000\n",
      "Distance in feet: 209973.76\n",
      "Distance in inches: 2519685.12\n",
      "Distance in centimeters:  6400000\n"
     ]
    }
   ],
   "source": [
    "\n",
    "distance_km = eval(input(\"Enter the distance between two cities in kilometers: \"))\n",
    "                   \n",
    "distance_meters = round(distance_km * 1000,2)\n",
    "\n",
    "distance_feet = round(distance_meters * 3.28084,2)\n",
    "\n",
    "distance_inches = round(distance_feet * 12,2)\n",
    "\n",
    "distance_centimeters =round(distance_meters * 100,2)\n",
    "\n",
    "print(f\"Distance in meters: {distance_meters}\")\n",
    "print(f\"Distance in feet: {distance_feet}\")\n",
    "print(f\"Distance in inches: {distance_inches}\")\n",
    "print(f\"Distance in centimeters:  {distance_centimeters}\")"
   ]
  },
  {
   "cell_type": "markdown",
   "id": "af529a19-6fc4-46b7-8063-2bac0c2225dd",
   "metadata": {},
   "source": [
    "**Q-3**"
   ]
  },
  {
   "cell_type": "code",
   "execution_count": 4,
   "id": "82896cb5-9798-4972-be43-b4c7ddaea6a3",
   "metadata": {},
   "outputs": [
    {
     "name": "stdin",
     "output_type": "stream",
     "text": [
      "Enter marks in subject 1:  6.77\n",
      "Enter marks in subject 2:  6.93\n",
      "Enter marks in subject 3:  7.13\n",
      "Enter marks in subject 4:  7.54\n",
      "Enter marks in subject 5:  8.25\n"
     ]
    },
    {
     "name": "stdout",
     "output_type": "stream",
     "text": [
      "\n",
      "Aggregate marks:  36.62\n",
      "Percentage marks:  7.32\n"
     ]
    }
   ],
   "source": [
    "sub1 = eval(input(\"Enter marks in subject 1: \"))\n",
    "sub2 = eval(input(\"Enter marks in subject 2: \"))\n",
    "sub3 = eval(input(\"Enter marks in subject 3: \"))\n",
    "sub4 = eval(input(\"Enter marks in subject 4: \"))\n",
    "sub5 = eval(input(\"Enter marks in subject 5: \"))\n",
    "aggregate_marks = sub1 + sub2 + sub3 + sub4 + sub5\n",
    "percentage_marks =round((aggregate_marks / 500) * 100,2)\n",
    "\n",
    "print(\"\\nAggregate marks: \", aggregate_marks)\n",
    "print(\"Percentage marks: \", percentage_marks)"
   ]
  },
  {
   "cell_type": "markdown",
   "id": "0f28ab3b-b925-4df4-89ed-e30c3fd6354d",
   "metadata": {},
   "source": [
    "**Q-4**"
   ]
  },
  {
   "cell_type": "code",
   "execution_count": null,
   "id": "6286b77b-efb5-47ce-908a-3472e81c06af",
   "metadata": {},
   "outputs": [],
   "source": [
    "fahrenheit = eval(input(\"Enter temperature in Fahrenheit: \"))\n",
    "centigrade = round((fahrenheit - 32) * 5/9,2)\n",
    "print(f\"\\nTemperature in Centigrade: {centigrade}\")"
   ]
  },
  {
   "cell_type": "markdown",
   "id": "007bc3e4-df6f-48c6-b250-99476bfec87a",
   "metadata": {},
   "source": [
    "**Q-5**"
   ]
  },
  {
   "cell_type": "code",
   "execution_count": 6,
   "id": "a32d5277-b3ac-4f2a-a5a7-4c57cc191045",
   "metadata": {},
   "outputs": [
    {
     "name": "stdin",
     "output_type": "stream",
     "text": [
      "Enter the length of the rectangle:  10\n",
      "Enter the breadth of the rectangle:  5\n",
      "Enter the radius of the circle:  5\n"
     ]
    },
    {
     "name": "stdout",
     "output_type": "stream",
     "text": [
      "Area of rectangle : 50\n",
      " Perimeter of rectangle : 30\n",
      "Area of circle : 78.54\n",
      "Circumference of circle : 31.42\n"
     ]
    }
   ],
   "source": [
    "import math\n",
    "length = eval(input(\"Enter the length of the rectangle: \"))\n",
    "breadth = eval(input(\"Enter the breadth of the rectangle: \"))\n",
    "radius = eval(input(\"Enter the radius of the circle: \"))\n",
    "\n",
    "rectangle_area = length * breadth\n",
    "rectangle_perimeter =round( 2 * (length + breadth),2)\n",
    "\n",
    "print(f\"Area of rectangle : {rectangle_area:}\")\n",
    "print(f\" Perimeter of rectangle : {rectangle_perimeter:}\")\n",
    "\n",
    "circle_area = round(math.pi * (radius ** 2),2)\n",
    "circle_circumference = round(2 * math.pi * radius,2)\n",
    "\n",
    "print(f\"Area of circle : {circle_area:}\")\n",
    "print(f\"Circumference of circle : {circle_circumference:}\")"
   ]
  },
  {
   "cell_type": "markdown",
   "id": "f875731f-26a1-40c6-aa69-8392c78b93cb",
   "metadata": {},
   "source": [
    "**Q-6**"
   ]
  },
  {
   "cell_type": "code",
   "execution_count": 1,
   "id": "b2133bf1-b59b-4d9f-a1b1-4155df822d85",
   "metadata": {},
   "outputs": [
    {
     "name": "stdin",
     "output_type": "stream",
     "text": [
      "Enter the value of C:  30\n",
      "Enter the value of D:  10\n"
     ]
    },
    {
     "name": "stdout",
     "output_type": "stream",
     "text": [
      " Before C values :  30\n",
      " Before D values :  10\n",
      " After C value:  10\n",
      " After D value:   30\n"
     ]
    }
   ],
   "source": [
    "C = int(input(\"Enter the value of C: \"))\n",
    "D = int(input(\"Enter the value of D: \"))\n",
    "        \n",
    "print(\" Before C values : \",C)\n",
    "print(\" Before D values : \",D)\n",
    "A=C\n",
    "C=D\n",
    "D=A\n",
    "print(\" After C value: \",C)\n",
    "print(\" After D value:  \",D)\n"
   ]
  },
  {
   "cell_type": "markdown",
   "id": "7f831ce0-d5f5-40e1-8322-b1326f25038a",
   "metadata": {},
   "source": [
    "**Q-7**"
   ]
  },
  {
   "cell_type": "code",
   "execution_count": 1,
   "id": "4e55a27e-5cc5-40a6-b1fb-685b1baaf9b9",
   "metadata": {},
   "outputs": [
    {
     "name": "stdin",
     "output_type": "stream",
     "text": [
      "Enter a five-digit number:  98765\n"
     ]
    },
    {
     "name": "stdout",
     "output_type": "stream",
     "text": [
      "Reversed number:  56789\n"
     ]
    }
   ],
   "source": [
    " num = int(input(\"Enter a five-digit number: \"))\n",
    "reversed_num = ((num % 10) * 10000) + ((num // 10) % 10) * 1000 + ((num // 100) % 10) * 100 + ((num // 1000) % 10) * 10 + (num // 10000)\n",
    "print(\"Reversed number: \", reversed_num)"
   ]
  },
  {
   "cell_type": "markdown",
   "id": "8868dd58-dada-4a4c-9dd0-307fe8f80cc3",
   "metadata": {},
   "source": [
    "**Q-8**"
   ]
  },
  {
   "cell_type": "code",
   "execution_count": 4,
   "id": "013e337c-6822-47f5-b879-63b8b30067fc",
   "metadata": {},
   "outputs": [
    {
     "name": "stdin",
     "output_type": "stream",
     "text": [
      "Enter a four-digit number:  1234\n"
     ]
    },
    {
     "name": "stdout",
     "output_type": "stream",
     "text": [
      "Reversed number:  4321\n"
     ]
    }
   ],
   "source": [
    "num = int(input(\"Enter a four-digit number: \"))\n",
    "reversed_num = ((num % 10) * 1000) + ((num // 10) % 10) * 100 + ((num // 100) % 10) * 10 + (num // 1000)\n",
    "print(\"Reversed number: \", reversed_num)"
   ]
  },
  {
   "cell_type": "markdown",
   "id": "1781753a-f3cf-46b8-928a-a1416df67d71",
   "metadata": {},
   "source": [
    "**Q-9**"
   ]
  },
  {
   "cell_type": "code",
   "execution_count": 5,
   "id": "0a956c4e-0e39-4413-82ea-f3056ab4029d",
   "metadata": {},
   "outputs": [
    {
     "name": "stdout",
     "output_type": "stream",
     "text": [
      "Total illiterate men:  13600\n",
      "Total illiterate women:  28000\n"
     ]
    }
   ],
   "source": [
    "percent_men = 52\n",
    "percent_literate = 48\n",
    "percent_literate_men = 35\n",
    "\n",
    "total_population = 80000\n",
    "total_men = (percent_men / 100) * total_population\n",
    "total_literate = (percent_literate / 100) * total_population\n",
    "literate_men = (percent_literate_men / 100) * total_population\n",
    "literate_women = total_literate - literate_men\n",
    "\n",
    "illiterate_men = total_men - literate_men\n",
    "illiterate_women = total_population - total_men - literate_women\n",
    "\n",
    "print(\"Total illiterate men: \", int(illiterate_men))\n",
    "print(\"Total illiterate women: \", int(illiterate_women))"
   ]
  },
  {
   "cell_type": "markdown",
   "id": "261eedf1-b952-470d-a3f8-807ad8d3c8cc",
   "metadata": {},
   "source": [
    "**Q-10**"
   ]
  },
  {
   "cell_type": "code",
   "execution_count": 7,
   "id": "e5e93b1f-fb51-423b-a68c-830688af2cf6",
   "metadata": {},
   "outputs": [
    {
     "name": "stdin",
     "output_type": "stream",
     "text": [
      "Enter the amount to be withdrawn (in hundreds):  650\n"
     ]
    },
    {
     "name": "stdout",
     "output_type": "stream",
     "text": [
      "Number of 100 notes:  650\n",
      "Number of 50 notes:  0\n",
      "Number of 10 notes:  0\n"
     ]
    }
   ],
   "source": [
    "amount = int(input(\"Enter the amount to be withdrawn (in hundreds): \")) * 100\n",
    "\n",
    "notes_100 = amount // 100  #(// used for floor division)\n",
    "amount %= 100\n",
    "\n",
    "notes_50 = amount // 50\n",
    "amount %= 50\n",
    "\n",
    "notes_10 = amount // 10\n",
    "amount %= 10\n",
    "\n",
    "print(\"Number of 100 notes: \", notes_100)\n",
    "print(\"Number of 50 notes: \", notes_50)\n",
    "print(\"Number of 10 notes: \", notes_10)"
   ]
  },
  {
   "cell_type": "code",
   "execution_count": null,
   "id": "4113fd0e-e873-48ff-948a-d57590d83fb0",
   "metadata": {},
   "outputs": [],
   "source": []
  }
 ],
 "metadata": {
  "kernelspec": {
   "display_name": "Python 3 (ipykernel)",
   "language": "python",
   "name": "python3"
  },
  "language_info": {
   "codemirror_mode": {
    "name": "ipython",
    "version": 3
   },
   "file_extension": ".py",
   "mimetype": "text/x-python",
   "name": "python",
   "nbconvert_exporter": "python",
   "pygments_lexer": "ipython3",
   "version": "3.11.7"
  }
 },
 "nbformat": 4,
 "nbformat_minor": 5
}
